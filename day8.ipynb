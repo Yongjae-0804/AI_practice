{
 "cells": [
  {
   "cell_type": "code",
   "execution_count": 1,
   "metadata": {},
   "outputs": [],
   "source": [
    "import numpy as np\n",
    "import pandas as pd\n",
    "import matplotlib.pyplot as plt\n",
    "import seaborn as sns\n",
    "from tensorflow.keras.models import Sequential\n",
    "from tensorflow.keras.layers import Dense, Dropout,Conv2D,MaxPooling2D,Flatten, SimpleRNN\n",
    "from tensorflow.keras.utils import to_categorical\n",
    "from tensorflow.keras.callbacks import ModelCheckpoint, EarlyStopping \n",
    "from sklearn.model_selection import train_test_split\n",
    "\n",
    "import keras"
   ]
  },
  {
   "cell_type": "code",
   "execution_count": 68,
   "metadata": {},
   "outputs": [
    {
     "data": {
      "text/plain": [
       "(54000, 28, 28, 1)"
      ]
     },
     "execution_count": 68,
     "metadata": {},
     "output_type": "execute_result"
    }
   ],
   "source": []
  },
  {
   "cell_type": "code",
   "execution_count": 72,
   "metadata": {},
   "outputs": [
    {
     "name": "stdout",
     "output_type": "stream",
     "text": [
      "Model: \"sequential_20\"\n",
      "_________________________________________________________________\n",
      " Layer (type)                Output Shape              Param #   \n",
      "=================================================================\n",
      " conv2d_54 (Conv2D)          (None, 28, 28, 32)        320       \n",
      "                                                                 \n",
      " max_pooling2d_53 (MaxPoolin  (None, 14, 14, 32)       0         \n",
      " g2D)                                                            \n",
      "                                                                 \n",
      " conv2d_55 (Conv2D)          (None, 14, 14, 64)        18496     \n",
      "                                                                 \n",
      " max_pooling2d_54 (MaxPoolin  (None, 7, 7, 64)         0         \n",
      " g2D)                                                            \n",
      "                                                                 \n",
      " flatten_18 (Flatten)        (None, 3136)              0         \n",
      "                                                                 \n",
      " dense_36 (Dense)            (None, 128)               401536    \n",
      "                                                                 \n",
      " dropout_18 (Dropout)        (None, 128)               0         \n",
      "                                                                 \n",
      " dense_37 (Dense)            (None, 10)                1290      \n",
      "                                                                 \n",
      "=================================================================\n",
      "Total params: 421,642\n",
      "Trainable params: 421,642\n",
      "Non-trainable params: 0\n",
      "_________________________________________________________________\n"
     ]
    }
   ],
   "source": [
    "(X_train, y_train),(X_test,y_test) = keras.datasets.fashion_mnist.load_data()\n",
    "\n",
    "X_train = X_train.reshape(60000,28,28,1)\n",
    "X_test = X_test.reshape(10000,28,28,1)\n",
    "\n",
    "X_train = X_train/255\n",
    "X_test = X_test/255\n",
    "\n",
    "y_train = to_categorical(y_train)\n",
    "y_test = to_categorical(y_test)\n",
    "\n",
    "X_train,X_val,y_train,y_val = train_test_split(X_train,y_train,test_size=0.1)\n",
    "\n",
    "model = Sequential()\n",
    "model.add(Conv2D(32,kernel_size = (3,3),activation = 'relu',padding = 'same',input_shape = (28,28,1)))\n",
    "model.add(MaxPooling2D(2))\n",
    "model.add(Conv2D(64,kernel_size = (3,3),activation = 'relu',padding = 'same'))\n",
    "model.add(MaxPooling2D(2))\n",
    "model.add(Flatten())\n",
    "model.add(Dense(128, activation = 'relu'))\n",
    "model.add(Dropout(0.4))\n",
    "model.add(Dense(10,activation = 'softmax'))\n",
    "model.summary()"
   ]
  },
  {
   "cell_type": "code",
   "execution_count": 70,
   "metadata": {},
   "outputs": [
    {
     "name": "stdout",
     "output_type": "stream",
     "text": [
      "You must install pydot (`pip install pydot`) and install graphviz (see instructions at https://graphviz.gitlab.io/download/) for plot_model to work.\n"
     ]
    }
   ],
   "source": [
    "keras.utils.plot_model(model, show_dtype= True)"
   ]
  },
  {
   "cell_type": "code",
   "execution_count": 73,
   "metadata": {},
   "outputs": [
    {
     "ename": "ValueError",
     "evalue": "in user code:\n\n    File \"c:\\Users\\box15\\anaconda3\\lib\\site-packages\\keras\\engine\\training.py\", line 1160, in train_function  *\n        return step_function(self, iterator)\n    File \"c:\\Users\\box15\\anaconda3\\lib\\site-packages\\keras\\engine\\training.py\", line 1146, in step_function  **\n        outputs = model.distribute_strategy.run(run_step, args=(data,))\n    File \"c:\\Users\\box15\\anaconda3\\lib\\site-packages\\keras\\engine\\training.py\", line 1135, in run_step  **\n        outputs = model.train_step(data)\n    File \"c:\\Users\\box15\\anaconda3\\lib\\site-packages\\keras\\engine\\training.py\", line 994, in train_step\n        loss = self.compute_loss(x, y, y_pred, sample_weight)\n    File \"c:\\Users\\box15\\anaconda3\\lib\\site-packages\\keras\\engine\\training.py\", line 1052, in compute_loss\n        return self.compiled_loss(\n    File \"c:\\Users\\box15\\anaconda3\\lib\\site-packages\\keras\\engine\\compile_utils.py\", line 265, in __call__\n        loss_value = loss_obj(y_t, y_p, sample_weight=sw)\n    File \"c:\\Users\\box15\\anaconda3\\lib\\site-packages\\keras\\losses.py\", line 152, in __call__\n        losses = call_fn(y_true, y_pred)\n    File \"c:\\Users\\box15\\anaconda3\\lib\\site-packages\\keras\\losses.py\", line 272, in call  **\n        return ag_fn(y_true, y_pred, **self._fn_kwargs)\n    File \"c:\\Users\\box15\\anaconda3\\lib\\site-packages\\keras\\losses.py\", line 2084, in sparse_categorical_crossentropy\n        return backend.sparse_categorical_crossentropy(\n    File \"c:\\Users\\box15\\anaconda3\\lib\\site-packages\\keras\\backend.py\", line 5630, in sparse_categorical_crossentropy\n        res = tf.nn.sparse_softmax_cross_entropy_with_logits(\n\n    ValueError: `labels.shape` must equal `logits.shape` except for the last dimension. Received: labels.shape=(6000,) and logits.shape=(600, 10)\n",
     "output_type": "error",
     "traceback": [
      "\u001b[1;31m---------------------------------------------------------------------------\u001b[0m",
      "\u001b[1;31mValueError\u001b[0m                                Traceback (most recent call last)",
      "Cell \u001b[1;32mIn[73], line 8\u001b[0m\n\u001b[0;32m      6\u001b[0m \u001b[39m#10 번이상 성능이 향상되지 않으면 중단.\u001b[39;00m\n\u001b[0;32m      7\u001b[0m early_stopping_callback \u001b[39m=\u001b[39m EarlyStopping(monitor \u001b[39m=\u001b[39m \u001b[39m'\u001b[39m\u001b[39mval_loss\u001b[39m\u001b[39m'\u001b[39m, patience \u001b[39m=\u001b[39m \u001b[39m15\u001b[39m)\n\u001b[1;32m----> 8\u001b[0m history \u001b[39m=\u001b[39m model\u001b[39m.\u001b[39;49mfit(X_train, y_train, validation_data \u001b[39m=\u001b[39;49m (X_val,y_val), epochs \u001b[39m=\u001b[39;49m \u001b[39m10000\u001b[39;49m, batch_size \u001b[39m=\u001b[39;49m \u001b[39m600\u001b[39;49m, verbose \u001b[39m=\u001b[39;49m \u001b[39m0\u001b[39;49m, callbacks \u001b[39m=\u001b[39;49m [early_stopping_callback, checkpointer])\n\u001b[0;32m      9\u001b[0m \u001b[39mprint\u001b[39m(\u001b[39m\"\u001b[39m\u001b[39m\\n\u001b[39;00m\u001b[39m Test accuracy: \u001b[39m\u001b[39m{}\u001b[39;00m\u001b[39m.\u001b[39m\u001b[39m\"\u001b[39m\u001b[39m.\u001b[39mformat(model\u001b[39m.\u001b[39mevaluate(X_test, y_test)[\u001b[39m1\u001b[39m]))\n",
      "File \u001b[1;32mc:\\Users\\box15\\anaconda3\\lib\\site-packages\\keras\\utils\\traceback_utils.py:70\u001b[0m, in \u001b[0;36mfilter_traceback.<locals>.error_handler\u001b[1;34m(*args, **kwargs)\u001b[0m\n\u001b[0;32m     67\u001b[0m     filtered_tb \u001b[39m=\u001b[39m _process_traceback_frames(e\u001b[39m.\u001b[39m__traceback__)\n\u001b[0;32m     68\u001b[0m     \u001b[39m# To get the full stack trace, call:\u001b[39;00m\n\u001b[0;32m     69\u001b[0m     \u001b[39m# `tf.debugging.disable_traceback_filtering()`\u001b[39;00m\n\u001b[1;32m---> 70\u001b[0m     \u001b[39mraise\u001b[39;00m e\u001b[39m.\u001b[39mwith_traceback(filtered_tb) \u001b[39mfrom\u001b[39;00m \u001b[39mNone\u001b[39m\n\u001b[0;32m     71\u001b[0m \u001b[39mfinally\u001b[39;00m:\n\u001b[0;32m     72\u001b[0m     \u001b[39mdel\u001b[39;00m filtered_tb\n",
      "File \u001b[1;32m~\\AppData\\Local\\Temp\\__autograph_generated_filepl51fex8.py:15\u001b[0m, in \u001b[0;36mouter_factory.<locals>.inner_factory.<locals>.tf__train_function\u001b[1;34m(iterator)\u001b[0m\n\u001b[0;32m     13\u001b[0m \u001b[39mtry\u001b[39;00m:\n\u001b[0;32m     14\u001b[0m     do_return \u001b[39m=\u001b[39m \u001b[39mTrue\u001b[39;00m\n\u001b[1;32m---> 15\u001b[0m     retval_ \u001b[39m=\u001b[39m ag__\u001b[39m.\u001b[39mconverted_call(ag__\u001b[39m.\u001b[39mld(step_function), (ag__\u001b[39m.\u001b[39mld(\u001b[39mself\u001b[39m), ag__\u001b[39m.\u001b[39mld(iterator)), \u001b[39mNone\u001b[39;00m, fscope)\n\u001b[0;32m     16\u001b[0m \u001b[39mexcept\u001b[39;00m:\n\u001b[0;32m     17\u001b[0m     do_return \u001b[39m=\u001b[39m \u001b[39mFalse\u001b[39;00m\n",
      "\u001b[1;31mValueError\u001b[0m: in user code:\n\n    File \"c:\\Users\\box15\\anaconda3\\lib\\site-packages\\keras\\engine\\training.py\", line 1160, in train_function  *\n        return step_function(self, iterator)\n    File \"c:\\Users\\box15\\anaconda3\\lib\\site-packages\\keras\\engine\\training.py\", line 1146, in step_function  **\n        outputs = model.distribute_strategy.run(run_step, args=(data,))\n    File \"c:\\Users\\box15\\anaconda3\\lib\\site-packages\\keras\\engine\\training.py\", line 1135, in run_step  **\n        outputs = model.train_step(data)\n    File \"c:\\Users\\box15\\anaconda3\\lib\\site-packages\\keras\\engine\\training.py\", line 994, in train_step\n        loss = self.compute_loss(x, y, y_pred, sample_weight)\n    File \"c:\\Users\\box15\\anaconda3\\lib\\site-packages\\keras\\engine\\training.py\", line 1052, in compute_loss\n        return self.compiled_loss(\n    File \"c:\\Users\\box15\\anaconda3\\lib\\site-packages\\keras\\engine\\compile_utils.py\", line 265, in __call__\n        loss_value = loss_obj(y_t, y_p, sample_weight=sw)\n    File \"c:\\Users\\box15\\anaconda3\\lib\\site-packages\\keras\\losses.py\", line 152, in __call__\n        losses = call_fn(y_true, y_pred)\n    File \"c:\\Users\\box15\\anaconda3\\lib\\site-packages\\keras\\losses.py\", line 272, in call  **\n        return ag_fn(y_true, y_pred, **self._fn_kwargs)\n    File \"c:\\Users\\box15\\anaconda3\\lib\\site-packages\\keras\\losses.py\", line 2084, in sparse_categorical_crossentropy\n        return backend.sparse_categorical_crossentropy(\n    File \"c:\\Users\\box15\\anaconda3\\lib\\site-packages\\keras\\backend.py\", line 5630, in sparse_categorical_crossentropy\n        res = tf.nn.sparse_softmax_cross_entropy_with_logits(\n\n    ValueError: `labels.shape` must equal `logits.shape` except for the last dimension. Received: labels.shape=(6000,) and logits.shape=(600, 10)\n"
     ]
    }
   ],
   "source": [
    "model.compile(loss = 'sparse_categorical_crossentropy',  optimizer = 'adam', metrics='accuracy')\n",
    "\n",
    "modelpath = './data/model/fashon_mnist_best_model_2.hdf5'\n",
    "checkpointer = ModelCheckpoint(filepath = modelpath, monitor = 'val_loss', verbose = 1, save_best_only = True)\n",
    "\n",
    "#10 번이상 성능이 향상되지 않으면 중단.\n",
    "early_stopping_callback = EarlyStopping(monitor = 'val_loss', patience = 15)\n",
    "history = model.fit(X_train, y_train, validation_data = (X_val,y_val), epochs = 10000, batch_size = 600, verbose = 0, callbacks = [early_stopping_callback, checkpointer])\n",
    "print(\"\\n Test accuracy: {}.\".format(model.evaluate(X_test, y_test)[1]))"
   ]
  },
  {
   "cell_type": "code",
   "execution_count": 26,
   "metadata": {},
   "outputs": [
    {
     "name": "stdout",
     "output_type": "stream",
     "text": [
      "313/313 [==============================] - 1s 2ms/step - loss: 0.3394 - accuracy: 0.9123\n"
     ]
    },
    {
     "data": {
      "text/plain": [
       "[0.3394252061843872, 0.9122999906539917]"
      ]
     },
     "execution_count": 26,
     "metadata": {},
     "output_type": "execute_result"
    }
   ],
   "source": [
    "model.evaluate(X_test,y_test)"
   ]
  },
  {
   "cell_type": "code",
   "execution_count": 28,
   "metadata": {},
   "outputs": [
    {
     "data": {
      "image/png": "[encoded data removed]",
      "text/plain": [
       "<Figure size 640x480 with 1 Axes>"
      ]
     },
     "metadata": {},
     "output_type": "display_data"
    }
   ],
   "source": [
    "# validation loss\n",
    "y_vloss = history.history['val_loss']\n",
    "\n",
    "# train loss\n",
    "y_loss = history.history['loss']\n",
    "\n",
    "x_len = np.arange(len(y_loss))\n",
    "plt.plot(x_len, y_vloss, marker = '.', c = 'red', label = 'validation loss')\n",
    "plt.plot(x_len, y_loss, marker = '.', c = 'blue', label = 'train loss')\n",
    "plt.legend()\n",
    "plt.xlabel('epoch')\n",
    "plt.ylabel('loss')\n",
    "plt.show()"
   ]
  },
  {
   "cell_type": "code",
   "execution_count": 33,
   "metadata": {},
   "outputs": [
    {
     "name": "stdout",
     "output_type": "stream",
     "text": [
      "(50000, 32, 32, 3)\n",
      "(50000, 1)\n",
      "(10000, 32, 32, 3)\n",
      "(10000, 1)\n"
     ]
    }
   ],
   "source": [
    "(X_train, y_train), (X_test,y_test) = keras.datasets.cifar10.load_data()\n",
    "\n",
    "print(X_train.shape)\n",
    "print(y_train.shape)\n",
    "print(X_test.shape)\n",
    "print(y_test.shape)"
   ]
  },
  {
   "cell_type": "code",
   "execution_count": 78,
   "metadata": {},
   "outputs": [
    {
     "name": "stdout",
     "output_type": "stream",
     "text": [
      "Model: \"sequential_22\"\n",
      "_________________________________________________________________\n",
      " Layer (type)                Output Shape              Param #   \n",
      "=================================================================\n",
      " conv2d_58 (Conv2D)          (None, 32, 32, 32)        896       \n",
      "                                                                 \n",
      " max_pooling2d_57 (MaxPoolin  (None, 16, 16, 32)       0         \n",
      " g2D)                                                            \n",
      "                                                                 \n",
      " conv2d_59 (Conv2D)          (None, 16, 16, 64)        18496     \n",
      "                                                                 \n",
      " max_pooling2d_58 (MaxPoolin  (None, 8, 8, 64)         0         \n",
      " g2D)                                                            \n",
      "                                                                 \n",
      " flatten_20 (Flatten)        (None, 4096)              0         \n",
      "                                                                 \n",
      " dense_40 (Dense)            (None, 128)               524416    \n",
      "                                                                 \n",
      " dropout_20 (Dropout)        (None, 128)               0         \n",
      "                                                                 \n",
      " dense_41 (Dense)            (None, 10)                1290      \n",
      "                                                                 \n",
      "=================================================================\n",
      "Total params: 545,098\n",
      "Trainable params: 545,098\n",
      "Non-trainable params: 0\n",
      "_________________________________________________________________\n"
     ]
    }
   ],
   "source": [
    "(X_train, y_train), (X_test,y_test) = keras.datasets.cifar10.load_data()\n",
    "\n",
    "X_train = X_train/255\n",
    "X_test = X_test/255\n",
    "\n",
    "# y_train = to_categorical(y_train)\n",
    "# y_test = to_categorical(y_test)\n",
    "\n",
    "X_train,X_val,y_train,y_val = train_test_split(X_train,y_train,test_size=0.1)\n",
    "\n",
    "model = Sequential()\n",
    "model.add(Conv2D(32,kernel_size = (3,3),activation = 'relu',padding = 'same',input_shape = (32,32,3)))\n",
    "model.add(MaxPooling2D(2))\n",
    "model.add(Conv2D(64,kernel_size = (3,3),activation = 'relu',padding = 'same'))\n",
    "model.add(MaxPooling2D(2))\n",
    "model.add(Flatten())\n",
    "model.add(Dense(128, activation = 'relu'))\n",
    "model.add(Dropout(0.4))\n",
    "model.add(Dense(10,activation = 'softmax'))\n",
    "model.compile(loss = 'sparse_categorical_crossentropy',  optimizer = 'adam', metrics='accuracy')\n",
    "model.summary()"
   ]
  },
  {
   "cell_type": "code",
   "execution_count": 85,
   "metadata": {},
   "outputs": [
    {
     "name": "stdout",
     "output_type": "stream",
     "text": [
      "[[2]\n",
      " [4]\n",
      " [0]\n",
      " ...\n",
      " [5]\n",
      " [7]\n",
      " [8]]\n"
     ]
    }
   ],
   "source": [
    "print(y_train) # type: ignore"
   ]
  },
  {
   "cell_type": "code",
   "execution_count": 86,
   "metadata": {},
   "outputs": [
    {
     "name": "stdout",
     "output_type": "stream",
     "text": [
      "\n",
      "Epoch 1: val_loss improved from inf to 1.63613, saving model to ./data/model\\cifar10_best_model_2.hdf5\n",
      "\n",
      "Epoch 2: val_loss improved from 1.63613 to 1.44855, saving model to ./data/model\\cifar10_best_model_2.hdf5\n",
      "\n",
      "Epoch 3: val_loss improved from 1.44855 to 1.33241, saving model to ./data/model\\cifar10_best_model_2.hdf5\n",
      "\n",
      "Epoch 4: val_loss improved from 1.33241 to 1.25442, saving model to ./data/model\\cifar10_best_model_2.hdf5\n",
      "\n",
      "Epoch 5: val_loss improved from 1.25442 to 1.21109, saving model to ./data/model\\cifar10_best_model_2.hdf5\n",
      "\n",
      "Epoch 6: val_loss improved from 1.21109 to 1.16859, saving model to ./data/model\\cifar10_best_model_2.hdf5\n",
      "\n",
      "Epoch 7: val_loss improved from 1.16859 to 1.12746, saving model to ./data/model\\cifar10_best_model_2.hdf5\n",
      "\n",
      "Epoch 8: val_loss improved from 1.12746 to 1.08828, saving model to ./data/model\\cifar10_best_model_2.hdf5\n",
      "\n",
      "Epoch 9: val_loss did not improve from 1.08828\n",
      "\n",
      "Epoch 10: val_loss improved from 1.08828 to 1.05272, saving model to ./data/model\\cifar10_best_model_2.hdf5\n",
      "\n",
      "Epoch 11: val_loss improved from 1.05272 to 1.02960, saving model to ./data/model\\cifar10_best_model_2.hdf5\n",
      "\n",
      "Epoch 12: val_loss did not improve from 1.02960\n",
      "\n",
      "Epoch 13: val_loss improved from 1.02960 to 1.00368, saving model to ./data/model\\cifar10_best_model_2.hdf5\n",
      "\n",
      "Epoch 14: val_loss improved from 1.00368 to 0.97628, saving model to ./data/model\\cifar10_best_model_2.hdf5\n",
      "\n",
      "Epoch 15: val_loss improved from 0.97628 to 0.97175, saving model to ./data/model\\cifar10_best_model_2.hdf5\n",
      "\n",
      "Epoch 16: val_loss did not improve from 0.97175\n",
      "\n",
      "Epoch 17: val_loss improved from 0.97175 to 0.93846, saving model to ./data/model\\cifar10_best_model_2.hdf5\n",
      "\n",
      "Epoch 18: val_loss improved from 0.93846 to 0.92700, saving model to ./data/model\\cifar10_best_model_2.hdf5\n",
      "\n",
      "Epoch 19: val_loss did not improve from 0.92700\n",
      "\n",
      "Epoch 20: val_loss did not improve from 0.92700\n",
      "\n",
      "Epoch 21: val_loss improved from 0.92700 to 0.91236, saving model to ./data/model\\cifar10_best_model_2.hdf5\n",
      "\n",
      "Epoch 22: val_loss improved from 0.91236 to 0.90460, saving model to ./data/model\\cifar10_best_model_2.hdf5\n",
      "\n",
      "Epoch 23: val_loss did not improve from 0.90460\n",
      "\n",
      "Epoch 24: val_loss improved from 0.90460 to 0.89109, saving model to ./data/model\\cifar10_best_model_2.hdf5\n",
      "\n",
      "Epoch 25: val_loss improved from 0.89109 to 0.88763, saving model to ./data/model\\cifar10_best_model_2.hdf5\n",
      "\n",
      "Epoch 26: val_loss improved from 0.88763 to 0.87827, saving model to ./data/model\\cifar10_best_model_2.hdf5\n",
      "\n",
      "Epoch 27: val_loss did not improve from 0.87827\n",
      "\n",
      "Epoch 28: val_loss did not improve from 0.87827\n",
      "\n",
      "Epoch 29: val_loss did not improve from 0.87827\n",
      "\n",
      "Epoch 30: val_loss improved from 0.87827 to 0.86392, saving model to ./data/model\\cifar10_best_model_2.hdf5\n",
      "\n",
      "Epoch 31: val_loss improved from 0.86392 to 0.86038, saving model to ./data/model\\cifar10_best_model_2.hdf5\n",
      "\n",
      "Epoch 32: val_loss improved from 0.86038 to 0.85797, saving model to ./data/model\\cifar10_best_model_2.hdf5\n",
      "\n",
      "Epoch 33: val_loss did not improve from 0.85797\n",
      "\n",
      "Epoch 34: val_loss improved from 0.85797 to 0.85180, saving model to ./data/model\\cifar10_best_model_2.hdf5\n",
      "\n",
      "Epoch 35: val_loss did not improve from 0.85180\n",
      "\n",
      "Epoch 36: val_loss did not improve from 0.85180\n",
      "\n",
      "Epoch 37: val_loss did not improve from 0.85180\n",
      "\n",
      "Epoch 38: val_loss did not improve from 0.85180\n",
      "\n",
      "Epoch 39: val_loss improved from 0.85180 to 0.85166, saving model to ./data/model\\cifar10_best_model_2.hdf5\n",
      "\n",
      "Epoch 40: val_loss did not improve from 0.85166\n",
      "\n",
      "Epoch 41: val_loss did not improve from 0.85166\n",
      "\n",
      "Epoch 42: val_loss did not improve from 0.85166\n",
      "\n",
      "Epoch 43: val_loss did not improve from 0.85166\n",
      "\n",
      "Epoch 44: val_loss did not improve from 0.85166\n",
      "\n",
      "Epoch 45: val_loss did not improve from 0.85166\n",
      "\n",
      "Epoch 46: val_loss did not improve from 0.85166\n",
      "\n",
      "Epoch 47: val_loss did not improve from 0.85166\n",
      "\n",
      "Epoch 48: val_loss did not improve from 0.85166\n",
      "\n",
      "Epoch 49: val_loss did not improve from 0.85166\n",
      "\n",
      "Epoch 50: val_loss did not improve from 0.85166\n",
      "\n",
      "Epoch 51: val_loss did not improve from 0.85166\n",
      "\n",
      "Epoch 52: val_loss did not improve from 0.85166\n",
      "\n",
      "Epoch 53: val_loss did not improve from 0.85166\n",
      "\n",
      "Epoch 54: val_loss did not improve from 0.85166\n",
      "313/313 [==============================] - 1s 2ms/step - loss: 0.8831 - accuracy: 0.7091\n",
      "\n",
      " Test accuracy: 0.7091000080108643.\n"
     ]
    }
   ],
   "source": [
    "modelpath = './data/model/cifar10_best_model_2.hdf5'\n",
    "checkpointer = ModelCheckpoint(filepath = modelpath, monitor = 'val_loss', verbose = 1, save_best_only = True)\n",
    "\n",
    "early_stopping_callback = EarlyStopping(monitor = 'val_loss', patience = 15)\n",
    "history = model.fit(X_train, y_train, validation_data = (X_val,y_val), epochs = 10000, batch_size = 1000, verbose = 0, callbacks = [early_stopping_callback, checkpointer])\n",
    "print(\"\\n Test accuracy: {}.\".format(model.evaluate(X_test, y_test)[1]))"
   ]
  },
  {
   "cell_type": "code",
   "execution_count": 61,
   "metadata": {},
   "outputs": [
    {
     "data": {
      "image/png": "[encoded data removed]",
      "text/plain": [
       "<Figure size 640x480 with 1 Axes>"
      ]
     },
     "metadata": {},
     "output_type": "display_data"
    }
   ],
   "source": [
    "# validation loss\n",
    "y_vloss = history.history['val_loss']\n",
    "\n",
    "# train loss\n",
    "y_loss = history.history['loss']\n",
    "\n",
    "x_len = np.arange(len(y_loss))\n",
    "plt.plot(x_len, y_vloss, marker = '.', c = 'red', label = 'validation loss')\n",
    "plt.plot(x_len, y_loss, marker = '.', c = 'blue', label = 'train loss')\n",
    "plt.legend()\n",
    "plt.xlabel('epoch')\n",
    "plt.ylabel('loss')\n",
    "plt.show()"
   ]
  },
  {
   "cell_type": "code",
   "execution_count": 12,
   "metadata": {},
   "outputs": [],
   "source": [
    "(X_train, y_train), (X_test,y_test) = keras.datasets.imdb.load_data(num_words= 300)\n",
    "\n"
   ]
  },
  {
   "cell_type": "code",
   "execution_count": 13,
   "metadata": {},
   "outputs": [],
   "source": [
    "from tensorflow.keras.preprocessing.sequence import pad_sequences\n",
    "\n",
    "X_train = pad_sequences(X_train,maxlen = 100, truncating = 'pre')\n",
    "X_test = pad_sequences(X_test,maxlen = 100, truncating = 'pre')\n",
    "\n",
    "X_train = to_categorical(X_train)\n",
    "X_test = to_categorical(X_test)\n"
   ]
  },
  {
   "cell_type": "code",
   "execution_count": 14,
   "metadata": {},
   "outputs": [
    {
     "name": "stdout",
     "output_type": "stream",
     "text": [
      "\n",
      "Epoch 1: val_loss improved from inf to 0.69273, saving model to ./data/model\\words_best_model_2.hdf5\n",
      "\n",
      "Epoch 2: val_loss improved from 0.69273 to 0.68591, saving model to ./data/model\\words_best_model_2.hdf5\n",
      "\n",
      "Epoch 3: val_loss improved from 0.68591 to 0.63593, saving model to ./data/model\\words_best_model_2.hdf5\n",
      "\n",
      "Epoch 4: val_loss improved from 0.63593 to 0.61110, saving model to ./data/model\\words_best_model_2.hdf5\n",
      "\n",
      "Epoch 5: val_loss improved from 0.61110 to 0.57541, saving model to ./data/model\\words_best_model_2.hdf5\n",
      "\n",
      "Epoch 6: val_loss improved from 0.57541 to 0.56134, saving model to ./data/model\\words_best_model_2.hdf5\n",
      "\n",
      "Epoch 7: val_loss did not improve from 0.56134\n",
      "\n",
      "Epoch 8: val_loss improved from 0.56134 to 0.54471, saving model to ./data/model\\words_best_model_2.hdf5\n",
      "\n",
      "Epoch 9: val_loss improved from 0.54471 to 0.54036, saving model to ./data/model\\words_best_model_2.hdf5\n",
      "\n",
      "Epoch 10: val_loss improved from 0.54036 to 0.53752, saving model to ./data/model\\words_best_model_2.hdf5\n",
      "\n",
      "Epoch 11: val_loss improved from 0.53752 to 0.53399, saving model to ./data/model\\words_best_model_2.hdf5\n",
      "\n",
      "Epoch 12: val_loss improved from 0.53399 to 0.53193, saving model to ./data/model\\words_best_model_2.hdf5\n",
      "\n",
      "Epoch 13: val_loss improved from 0.53193 to 0.53142, saving model to ./data/model\\words_best_model_2.hdf5\n",
      "\n",
      "Epoch 14: val_loss improved from 0.53142 to 0.52975, saving model to ./data/model\\words_best_model_2.hdf5\n",
      "\n",
      "Epoch 15: val_loss improved from 0.52975 to 0.52888, saving model to ./data/model\\words_best_model_2.hdf5\n",
      "\n",
      "Epoch 16: val_loss did not improve from 0.52888\n",
      "\n",
      "Epoch 17: val_loss did not improve from 0.52888\n",
      "\n",
      "Epoch 18: val_loss improved from 0.52888 to 0.52810, saving model to ./data/model\\words_best_model_2.hdf5\n",
      "\n",
      "Epoch 19: val_loss improved from 0.52810 to 0.52503, saving model to ./data/model\\words_best_model_2.hdf5\n",
      "\n",
      "Epoch 20: val_loss did not improve from 0.52503\n",
      "\n",
      "Epoch 21: val_loss did not improve from 0.52503\n",
      "\n",
      "Epoch 22: val_loss did not improve from 0.52503\n",
      "\n",
      "Epoch 23: val_loss did not improve from 0.52503\n",
      "\n",
      "Epoch 24: val_loss did not improve from 0.52503\n"
     ]
    },
    {
     "ename": "InternalError",
     "evalue": "Failed copying input tensor from /job:localhost/replica:0/task:0/device:CPU:0 to /job:localhost/replica:0/task:0/device:GPU:0 in order to run _EagerConst: Dst tensor is not initialized.",
     "output_type": "error",
     "traceback": [
      "\u001b[1;31m---------------------------------------------------------------------------\u001b[0m",
      "\u001b[1;31mInternalError\u001b[0m                             Traceback (most recent call last)",
      "Cell \u001b[1;32mIn[14], line 11\u001b[0m\n\u001b[0;32m      9\u001b[0m early_stopping_callback \u001b[39m=\u001b[39m EarlyStopping(monitor \u001b[39m=\u001b[39m \u001b[39m'\u001b[39m\u001b[39mval_loss\u001b[39m\u001b[39m'\u001b[39m, patience \u001b[39m=\u001b[39m \u001b[39m5\u001b[39m)\n\u001b[0;32m     10\u001b[0m history \u001b[39m=\u001b[39m model\u001b[39m.\u001b[39mfit(X_train, y_train,validation_split \u001b[39m=\u001b[39m \u001b[39m0.25\u001b[39m, epochs \u001b[39m=\u001b[39m \u001b[39m10000\u001b[39m, batch_size \u001b[39m=\u001b[39m \u001b[39m500\u001b[39m, verbose \u001b[39m=\u001b[39m \u001b[39m0\u001b[39m, callbacks \u001b[39m=\u001b[39m [early_stopping_callback, checkpointer])\n\u001b[1;32m---> 11\u001b[0m \u001b[39mprint\u001b[39m(\u001b[39m\"\u001b[39m\u001b[39m\\n\u001b[39;00m\u001b[39m Test accuracy: \u001b[39m\u001b[39m{}\u001b[39;00m\u001b[39m.\u001b[39m\u001b[39m\"\u001b[39m\u001b[39m.\u001b[39mformat(model\u001b[39m.\u001b[39;49mevaluate(X_test, y_test)[\u001b[39m1\u001b[39m]))\n",
      "File \u001b[1;32mc:\\Users\\box15\\anaconda3\\lib\\site-packages\\keras\\utils\\traceback_utils.py:70\u001b[0m, in \u001b[0;36mfilter_traceback.<locals>.error_handler\u001b[1;34m(*args, **kwargs)\u001b[0m\n\u001b[0;32m     67\u001b[0m     filtered_tb \u001b[39m=\u001b[39m _process_traceback_frames(e\u001b[39m.\u001b[39m__traceback__)\n\u001b[0;32m     68\u001b[0m     \u001b[39m# To get the full stack trace, call:\u001b[39;00m\n\u001b[0;32m     69\u001b[0m     \u001b[39m# `tf.debugging.disable_traceback_filtering()`\u001b[39;00m\n\u001b[1;32m---> 70\u001b[0m     \u001b[39mraise\u001b[39;00m e\u001b[39m.\u001b[39mwith_traceback(filtered_tb) \u001b[39mfrom\u001b[39;00m \u001b[39mNone\u001b[39m\n\u001b[0;32m     71\u001b[0m \u001b[39mfinally\u001b[39;00m:\n\u001b[0;32m     72\u001b[0m     \u001b[39mdel\u001b[39;00m filtered_tb\n",
      "File \u001b[1;32mc:\\Users\\box15\\anaconda3\\lib\\site-packages\\tensorflow\\python\\framework\\constant_op.py:102\u001b[0m, in \u001b[0;36mconvert_to_eager_tensor\u001b[1;34m(value, ctx, dtype)\u001b[0m\n\u001b[0;32m    100\u001b[0m     dtype \u001b[39m=\u001b[39m dtypes\u001b[39m.\u001b[39mas_dtype(dtype)\u001b[39m.\u001b[39mas_datatype_enum\n\u001b[0;32m    101\u001b[0m ctx\u001b[39m.\u001b[39mensure_initialized()\n\u001b[1;32m--> 102\u001b[0m \u001b[39mreturn\u001b[39;00m ops\u001b[39m.\u001b[39;49mEagerTensor(value, ctx\u001b[39m.\u001b[39;49mdevice_name, dtype)\n",
      "\u001b[1;31mInternalError\u001b[0m: Failed copying input tensor from /job:localhost/replica:0/task:0/device:CPU:0 to /job:localhost/replica:0/task:0/device:GPU:0 in order to run _EagerConst: Dst tensor is not initialized."
     ]
    }
   ],
   "source": [
    "model = Sequential()\n",
    "model.add(SimpleRNN(8, input_shape = (100,300)))\n",
    "model.add(Dense(2,activation = 'softmax'))\n",
    "model.compile(loss = 'sparse_categorical_crossentropy',  optimizer = 'adam', metrics='accuracy')\n",
    "\n",
    "modelpath = './data/model/words_best_model_2.hdf5'\n",
    "checkpointer = ModelCheckpoint(filepath = modelpath, monitor = 'val_loss', verbose = 1, save_best_only = True)\n",
    "\n",
    "early_stopping_callback = EarlyStopping(monitor = 'val_loss', patience = 5)\n",
    "history = model.fit(X_train, y_train,validation_split = 0.25, epochs = 10000, batch_size = 500, verbose = 0, callbacks = [early_stopping_callback, checkpointer])\n",
    "print(\"\\n Test accuracy: {}.\".format(model.evaluate(X_test, y_test)[1]))"
   ]
  }
 ],
 "metadata": {
  "kernelspec": {
   "display_name": "base",
   "language": "python",
   "name": "python3"
  },
  "language_info": {
   "codemirror_mode": {
    "name": "ipython",
    "version": 3
   },
   "file_extension": ".py",
   "mimetype": "text/x-python",
   "name": "python",
   "nbconvert_exporter": "python",
   "pygments_lexer": "ipython3",
   "version": "3.9.16"
  },
  "orig_nbformat": 4,
  "vscode": {
   "interpreter": {
    "hash": "336a7167fa095a0568fd0f482e8c39d2425961124f25fc4caa4d3cae90c24243"
   }
  }
 },
 "nbformat": 4,
 "nbformat_minor": 2
}
